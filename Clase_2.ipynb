{
  "nbformat": 4,
  "nbformat_minor": 0,
  "metadata": {
    "colab": {
      "provenance": [],
      "authorship_tag": "ABX9TyNDzy0LSYx9xOtPcAPVfxIL",
      "include_colab_link": true
    },
    "kernelspec": {
      "name": "python3",
      "display_name": "Python 3"
    },
    "language_info": {
      "name": "python"
    }
  },
  "cells": [
    {
      "cell_type": "markdown",
      "metadata": {
        "id": "view-in-github",
        "colab_type": "text"
      },
      "source": [
        "<a href=\"https://colab.research.google.com/github/DEALTOOR/SEMILLERO-IA-HITSS/blob/main/Clase_2.ipynb\" target=\"_parent\"><img src=\"https://colab.research.google.com/assets/colab-badge.svg\" alt=\"Open In Colab\"/></a>"
      ]
    },
    {
      "cell_type": "markdown",
      "source": [
        "# Definición de conceptos\n",
        "\n",
        "---\n",
        "\n",
        "### SSE: *Sum of Squared Errors*\n",
        "Es la suma de los cuadrados de los residuos. Lo que el modelo no puede explicar.\n",
        "Supongamos que tenemos un valor medio ̅y, valor real *y* y un valor predicho ̂y.\n",
        "\n",
        "El SSE es qué tan alejado está el valor predicho respecto al valor real. Buscamos que esta \"lejanía\" sea mínima, por lo que un SSE es mejor para nuestros modelos.\n",
        "\n",
        "### SSR: *Sum of Squares due to Regression*\n",
        "Es lo que sí explica nuestro modelo. Es qué tan alejado está el valor predicho respecto al valor medio.\n",
        "\n",
        "### SST: *Total Sum of Squares around the mean*\n",
        "Es la suma del SSE + SSR. Es la variación del valor real respecto a la media.\n",
        "\n",
        "---\n",
        "\n",
        "### MSE: Error Cuadrático Medio\n",
        "Promedio de los errores de los cuadrados. Penaliza los valores más grandes debido a la elevación al cuadrado. Usa la misma unidad de medida que el valor real *y*, pero elevada al cuadrado, por lo que es difícil comprenderla a simple vista.\n",
        "\n",
        "### RMSE: Raíz del Error Cuadrático Medio\n",
        "Es la raíz cuadrada del MSE, por lo que sus unidades de medida son las mismas que el valor real *y*, por lo que es fácil comprender cuánto se desvían los datos.\n",
        "\n",
        "### MAE\n",
        "Error Absoluto Medio. Es el promedio de los errores en valor absoluto, sin elevar al cuadrado. \"En promedio, el modelo se equivoca por X unidades\".\n",
        "\n",
        "### MAPE\n",
        "Mean Absolute Percentage Error. Es el porcentaje promedio de error relativo respecto a los valores reales. Dice, en promedio, cuánto porcentaje de error hay por predicción\n",
        "\n",
        "### $R^2$: Coeficiente de Determinación\n",
        "Porcentaje de variabilidad total de *y* que explica el modelo.\n",
        "Un valor igual a 1 indica un ajuste perfecto, mientras que cercano a 0 indica que el modelo no explica nada, es como predecir la media nada más. Si el valor es negativo ahí sí está bien mal el modelo\n",
        "\n",
        "### $R^2_{adj}$: Coeficiente de Determinación\n",
        "Corrige el R2 penalizando la cantidad de variables independientes."
      ],
      "metadata": {
        "id": "g0qyJi7z57nT"
      }
    },
    {
      "cell_type": "code",
      "source": [],
      "metadata": {
        "id": "8Dgv7ICy9vxq"
      },
      "execution_count": null,
      "outputs": []
    }
  ]
}