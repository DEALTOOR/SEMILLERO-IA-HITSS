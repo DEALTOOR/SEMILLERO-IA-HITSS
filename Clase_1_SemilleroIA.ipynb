{
  "nbformat": 4,
  "nbformat_minor": 0,
  "metadata": {
    "colab": {
      "provenance": [],
      "authorship_tag": "ABX9TyNSzdsMItBuxMpxqj8cm2RP",
      "include_colab_link": true
    },
    "kernelspec": {
      "name": "python3",
      "display_name": "Python 3"
    },
    "language_info": {
      "name": "python"
    }
  },
  "cells": [
    {
      "cell_type": "markdown",
      "metadata": {
        "id": "view-in-github",
        "colab_type": "text"
      },
      "source": [
        "<a href=\"https://colab.research.google.com/github/DEALTOOR/SEMILLERO-IA-HITSS/blob/main/Clase_1_SemilleroIA.ipynb\" target=\"_parent\"><img src=\"https://colab.research.google.com/assets/colab-badge.svg\" alt=\"Open In Colab\"/></a>"
      ]
    },
    {
      "cell_type": "markdown",
      "source": [
        "# Notas\n",
        "\n",
        "- La IA no es algo tan nuevo, es un concepto que lleva ya bastantes años, pero actualmente está teniendo una presencia más grande, principalmente por los chatbots, que son LLM's que cualquier usuario, conozca o no los conceptos teóricos de IA y ML, puede usar.\n",
        "- Existen 2 principales modelos de IA: clasificación y regresión. Clasificación es para definir si algo es de un grupo u otro, si algo cumple un criterio o no, mientras que Regresión va más enfocado en hacer predicciones y series de tiempo."
      ],
      "metadata": {
        "id": "1sRshdHX3sQ5"
      }
    },
    {
      "cell_type": "markdown",
      "source": [
        "# Ideas para proyecto\n",
        "-"
      ],
      "metadata": {
        "id": "Us9fdlsn5UH0"
      }
    }
  ]
}